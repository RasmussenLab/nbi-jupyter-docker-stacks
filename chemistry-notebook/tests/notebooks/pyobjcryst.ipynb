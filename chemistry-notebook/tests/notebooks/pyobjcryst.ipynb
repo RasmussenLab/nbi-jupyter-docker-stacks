{
 "cells": [
  {
   "cell_type": "code",
   "execution_count": 2,
   "metadata": {
    "scrolled": true
   },
   "outputs": [
    {
     "name": "stderr",
     "output_type": "stream",
     "text": [
      "...................................................................\n",
      "----------------------------------------------------------------------\n",
      "Ran 67 tests in 2.693s\n",
      "\n",
      "OK\n"
     ]
    }
   ],
   "source": [
    "from pyobjcryst.tests import test\n",
    "\n",
    "assert test().wasSuccessful()"
   ]
  }
 ],
 "metadata": {
  "kernelspec": {
   "display_name": "Python 2",
   "language": "python",
   "name": "python2"
  },
  "language_info": {
   "codemirror_mode": {
    "name": "ipython",
    "version": 2
   },
   "file_extension": ".py",
   "mimetype": "text/x-python",
   "name": "python",
   "nbconvert_exporter": "python",
   "pygments_lexer": "ipython2",
   "version": "2.7.15"
  }
 },
 "nbformat": 4,
 "nbformat_minor": 2
}
