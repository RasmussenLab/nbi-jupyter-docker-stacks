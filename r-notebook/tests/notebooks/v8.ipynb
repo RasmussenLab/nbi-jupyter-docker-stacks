{
 "cells": [
  {
   "cell_type": "code",
   "execution_count": null,
   "metadata": {},
   "outputs": [],
   "source": [
    "# Create a new context\n",
    "library(V8)\n",
    "ctx <- v8()\n",
    "\n",
    "# Evaluate some code\n",
    "ctx$eval(\"var foo = 123\")\n",
    "ctx$eval(\"var bar = 456\")\n",
    "ctx$eval(\"foo+bar\")\n",
    "\n",
    "# Assign / get objects\n",
    "ctx$assign(\"foo\", JS(\"function(x){return x*x}\"))\n",
    "ctx$assign(\"bar\", JS(\"foo(9)\"))\n",
    "ctx$get(\"bar\")"
   ]
  }
 ],
 "metadata": {},
 "nbformat": 4,
 "nbformat_minor": 0
}