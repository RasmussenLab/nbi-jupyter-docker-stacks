{
 "cells": [
  {
   "cell_type": "code",
   "execution_count": 2,
   "metadata": {},
   "outputs": [
    {
     "name": "stdout",
     "output_type": "stream",
     "text": [
      "----\n",
      "OpenMP:\n",
      "  Hardware threads: 40\n",
      "  JIT Command: \"gcc -x c -fPIC -shared  -std=gnu99  -O3 -march=native -Werror -fopenmp -I{CONF_PATH}/include -lm -L{CONF_PATH}/lib64 -lbh {IN} -o {OUT}\"\n",
      "\n",
      "/opt/conda/envs/python2/bin/python\n"
     ]
    },
    {
     "data": {
      "text/plain": [
       "<matplotlib.figure.Figure at 0x7f798338f790>"
      ]
     },
     "metadata": {},
     "output_type": "display_data"
    }
   ],
   "source": [
    "import numpy\n",
    "import bohrium as np\n",
    "\n",
    "def heat2d(height, width, epsilon=42):\n",
    "  G = np.zeros((height+2,width+2),dtype=np.float64)\n",
    "  G[:,0] = -273.15\n",
    "  G[:,-1] = -273.15\n",
    "  G[-1,:] = -273.15\n",
    "  G[0,:] = 40.0\n",
    "  center = G[1:-1,1:-1]\n",
    "  north = G[:-2,1:-1]\n",
    "  south = G[2:,1:-1]\n",
    "  east = G[1:-1,:-2]\n",
    "  west = G[1:-1,2:]\n",
    "  delta = epsilon+1\n",
    "  while delta > epsilon:\n",
    "    tmp = 0.2*(center+north+south+east+west)\n",
    "    delta = np.sum(np.abs(tmp-center))\n",
    "    center[:] = tmp\n",
    "  return center\n",
    "\n",
    "res = heat2d(5, 5)\n",
    "import sys\n",
    "print(sys.executable)\n",
    "import numpy as np\n",
    "from matplotlib import pyplot as plt\n",
    "res = heat2d(5, 5)\n",
    "plt.matshow(res, cmap='hot')\n",
    "plt.show()"
   ]
  }
 ],
 "metadata": {
  "kernelspec": {
   "display_name": "Python 2",
   "language": "python",
   "name": "python2"
  },
  "language_info": {
   "codemirror_mode": {
    "name": "ipython",
    "version": 2
   },
   "file_extension": ".py",
   "mimetype": "text/x-python",
   "name": "python",
   "nbconvert_exporter": "python",
   "pygments_lexer": "ipython2",
   "version": "2.7.14"
  }
 },
 "nbformat": 4,
 "nbformat_minor": 2
}
